{
  "nbformat": 4,
  "nbformat_minor": 0,
  "metadata": {
    "colab": {
      "name": "GAN -Load MNIST data.ipynb",
      "version": "0.3.2",
      "provenance": [],
      "collapsed_sections": [],
      "include_colab_link": true
    },
    "kernelspec": {
      "name": "python3",
      "display_name": "Python 3"
    },
    "accelerator": "GPU"
  },
  "cells": [
    {
      "cell_type": "markdown",
      "metadata": {
        "id": "view-in-github",
        "colab_type": "text"
      },
      "source": [
        "<a href=\"https://colab.research.google.com/github/kn-neelalohitha/Basic-GAN-Tutorial-with-MNIST/blob/patch1-dev/GAN_Load_MNIST_data.ipynb\" target=\"_parent\"><img src=\"https://colab.research.google.com/assets/colab-badge.svg\" alt=\"Open In Colab\"/></a>"
      ]
    },
    {
      "cell_type": "markdown",
      "metadata": {
        "id": "UxJGMyTRnISt",
        "colab_type": "text"
      },
      "source": [
        "This is a basic GAN tutorial from [machinelearningmastery](https://machinelearningmastery.com/generative_adversarial_networks/) using MNIST dataset."
      ]
    },
    {
      "cell_type": "code",
      "metadata": {
        "id": "7L7ZSjdznBlZ",
        "colab_type": "code",
        "colab": {
          "base_uri": "https://localhost:8080/",
          "height": 35
        },
        "outputId": "fdce81d8-c1ee-4c5a-c22e-213233cd3520"
      },
      "source": [
        "# example of loading the mnist dataset\n",
        "# first import the function load_data()\n",
        "from keras.datasets.mnist import load_data\n",
        "\n"
      ],
      "execution_count": 2,
      "outputs": [
        {
          "output_type": "stream",
          "text": [
            "Using TensorFlow backend.\n"
          ],
          "name": "stderr"
        }
      ]
    },
    {
      "cell_type": "code",
      "metadata": {
        "id": "x_gLxbV5oLKG",
        "colab_type": "code",
        "colab": {}
      },
      "source": [
        "?load_data()\n",
        "# returns 2 tuples of numpy arrays.\n",
        "# The first tuple contains i/p and o/p of training data (x_train, y_train)\n",
        "# The second tuple contains i/p and o/p of test data (x_test, y_test)"
      ],
      "execution_count": 0,
      "outputs": []
    },
    {
      "cell_type": "code",
      "metadata": {
        "id": "4z4U7YfZpMHU",
        "colab_type": "code",
        "colab": {}
      },
      "source": [
        "from google.colab import drive\n",
        "drive.mount('/content/drive')"
      ],
      "execution_count": 0,
      "outputs": []
    },
    {
      "cell_type": "code",
      "metadata": {
        "id": "7moulYJrpe99",
        "colab_type": "code",
        "colab": {
          "base_uri": "https://localhost:8080/",
          "height": 35
        },
        "outputId": "5c3aba57-f8ec-4a95-9584-10be953a9456"
      },
      "source": [
        "!ls"
      ],
      "execution_count": 6,
      "outputs": [
        {
          "output_type": "stream",
          "text": [
            "drive  sample_data\n"
          ],
          "name": "stdout"
        }
      ]
    },
    {
      "cell_type": "code",
      "metadata": {
        "id": "U3_-jxozpqEQ",
        "colab_type": "code",
        "colab": {
          "base_uri": "https://localhost:8080/",
          "height": 54
        },
        "outputId": "fc098e75-1208-4141-8d50-94fc1fe9b6d5"
      },
      "source": [
        "# load the images to the memory(through the 2 tupples in LHS)\n",
        "(trainX, trainy), (testX, testy) = load_data() \n",
        "# summarize the shape of the dataset\n",
        "print('Train', trainX.shape, trainy.shape)\n",
        "print('Test', testX.shape, testy.shape)"
      ],
      "execution_count": 13,
      "outputs": [
        {
          "output_type": "stream",
          "text": [
            "Train (60000, 28, 28) (60000,)\n",
            "Test (10000, 28, 28) (10000,)\n"
          ],
          "name": "stdout"
        }
      ]
    },
    {
      "cell_type": "code",
      "metadata": {
        "id": "MaFCmuuNruR8",
        "colab_type": "code",
        "colab": {
          "base_uri": "https://localhost:8080/",
          "height": 54
        },
        "outputId": "3925db87-245d-4890-db0a-8d86d2680238"
      },
      "source": [
        "print('trainX ', type(trainX))\n",
        "print('trainy', type(trainy))"
      ],
      "execution_count": 14,
      "outputs": [
        {
          "output_type": "stream",
          "text": [
            "trainX  <class 'numpy.ndarray'>\n",
            "trainy <class 'numpy.ndarray'>\n"
          ],
          "name": "stdout"
        }
      ]
    },
    {
      "cell_type": "markdown",
      "metadata": {
        "id": "3-fNz_kLribG",
        "colab_type": "text"
      },
      "source": [
        "`Train (60000, 28, 28) (60000,)` => The first tuple displays the shape of training data(training images).The 2nd tuple is the shape of trainy i.e., training labels. \n",
        "<br> \n",
        "`(60000, 28, 28)` => There are 60,000 images of shape  28 x 28. <br>`(60000,)` =>There are 60,000 labels"
      ]
    },
    {
      "cell_type": "code",
      "metadata": {
        "id": "-FudZsR4v-B0",
        "colab_type": "code",
        "colab": {}
      },
      "source": [
        "import numpy"
      ],
      "execution_count": 0,
      "outputs": []
    },
    {
      "cell_type": "code",
      "metadata": {
        "id": "kNBTNt7Ivbi2",
        "colab_type": "code",
        "colab": {
          "base_uri": "https://localhost:8080/",
          "height": 35
        },
        "outputId": "431ee712-500b-499a-a520-4667a22f0ddc"
      },
      "source": [
        "import random\n",
        "i = random.randint(0, 60000)\n",
        "i"
      ],
      "execution_count": 24,
      "outputs": [
        {
          "output_type": "execute_result",
          "data": {
            "text/plain": [
              "49944"
            ]
          },
          "metadata": {
            "tags": []
          },
          "execution_count": 24
        }
      ]
    },
    {
      "cell_type": "code",
      "metadata": {
        "id": "S0Gw5Bl_reoR",
        "colab_type": "code",
        "colab": {
          "base_uri": "https://localhost:8080/",
          "height": 287
        },
        "outputId": "2326258f-2e5e-4ce1-ac7b-7d7a04873eb2"
      },
      "source": [
        "from matplotlib import pyplot\n",
        "# plot raw pixel data\n",
        "pyplot.imshow(trainX[i], cmap= 'gray')"
      ],
      "execution_count": 26,
      "outputs": [
        {
          "output_type": "execute_result",
          "data": {
            "text/plain": [
              "<matplotlib.image.AxesImage at 0x7fa6ad92cb38>"
            ]
          },
          "metadata": {
            "tags": []
          },
          "execution_count": 26
        },
        {
          "output_type": "display_data",
          "data": {
            "image/png": "[encoded data removed]",
            "text/plain": [
              "<Figure size 432x288 with 1 Axes>"
            ]
          },
          "metadata": {
            "tags": []
          }
        }
      ]
    },
    {
      "cell_type": "code",
      "metadata": {
        "id": "hnnbvUmCwMnw",
        "colab_type": "code",
        "colab": {
          "base_uri": "https://localhost:8080/",
          "height": 287
        },
        "outputId": "6fd8406e-14a1-46ac-cf35-22a51cababd6"
      },
      "source": [
        "\"\"\"\n",
        " Black digit with a white background is easier to view than white digit with a black background(as above).\n",
        " So we reverse the color map using 'gray_r' instead of 'gray'\n",
        "\"\"\"\n",
        "pyplot.imshow(trainX[i], cmap = 'gray_r')"
      ],
      "execution_count": 30,
      "outputs": [
        {
          "output_type": "execute_result",
          "data": {
            "text/plain": [
              "<matplotlib.image.AxesImage at 0x7fa6ad76f9b0>"
            ]
          },
          "metadata": {
            "tags": []
          },
          "execution_count": 30
        },
        {
          "output_type": "display_data",
          "data": {
            "image/png": "[encoded data removed]",
            "text/plain": [
              "<Figure size 432x288 with 1 Axes>"
            ]
          },
          "metadata": {
            "tags": []
          }
        }
      ]
    },
    {
      "cell_type": "code",
      "metadata": {
        "id": "A8q7fi1mxERL",
        "colab_type": "code",
        "colab": {}
      },
      "source": [
        ""
      ],
      "execution_count": 0,
      "outputs": []
    }
  ]
}